{
 "cells": [
  {
   "cell_type": "markdown",
   "metadata": {},
   "source": [
    "# 1. The Dataset"
   ]
  },
  {
   "cell_type": "code",
   "execution_count": 18,
   "metadata": {},
   "outputs": [],
   "source": [
    "#Para manipular el dataset yapo_losrios.csv desde un dataframe de pandas\n",
    "import pandas as pd\n",
    "df_yapo = pd.read_csv('dataset_yapo_losrios_clean.csv')"
   ]
  },
  {
   "cell_type": "code",
   "execution_count": 25,
   "metadata": {},
   "outputs": [
    {
     "data": {
      "text/html": [
       "<div>\n",
       "<style scoped>\n",
       "    .dataframe tbody tr th:only-of-type {\n",
       "        vertical-align: middle;\n",
       "    }\n",
       "\n",
       "    .dataframe tbody tr th {\n",
       "        vertical-align: top;\n",
       "    }\n",
       "\n",
       "    .dataframe thead th {\n",
       "        text-align: right;\n",
       "    }\n",
       "</style>\n",
       "<table border=\"1\" class=\"dataframe\">\n",
       "  <thead>\n",
       "    <tr style=\"text-align: right;\">\n",
       "      <th></th>\n",
       "      <th>Link</th>\n",
       "      <th>Titulo</th>\n",
       "      <th>Descripcion</th>\n",
       "      <th>Tipo</th>\n",
       "      <th>Valor</th>\n",
       "      <th>Fecha</th>\n",
       "      <th>Dormitorios</th>\n",
       "      <th>Baños</th>\n",
       "      <th>Comuna</th>\n",
       "    </tr>\n",
       "  </thead>\n",
       "  <tbody>\n",
       "    <tr>\n",
       "      <th>0</th>\n",
       "      <td>https://www.yapo.cl/los_rios/arrendar/cabana_a...</td>\n",
       "      <td>Cabaña amoblada</td>\n",
       "      <td>Cabaña amoblada, en sector residencial Parque...</td>\n",
       "      <td>Departamento</td>\n",
       "      <td>180000</td>\n",
       "      <td>5 Diciembre 15:32</td>\n",
       "      <td>1.0</td>\n",
       "      <td>1.0</td>\n",
       "      <td>Valdivia</td>\n",
       "    </tr>\n",
       "    <tr>\n",
       "      <th>1</th>\n",
       "      <td>https://www.yapo.cl/los_rios/arrendar/casa_par...</td>\n",
       "      <td>casa para arrendar</td>\n",
       "      <td>Tengo subsidio de arriendo el subsidio es de ...</td>\n",
       "      <td>Casa</td>\n",
       "      <td>230000</td>\n",
       "      <td>5 Diciembre 15:09</td>\n",
       "      <td>3.0</td>\n",
       "      <td>1.0</td>\n",
       "      <td>Valdivia</td>\n",
       "    </tr>\n",
       "    <tr>\n",
       "      <th>2</th>\n",
       "      <td>https://www.yapo.cl/los_rios/arrendar/cabana_6...</td>\n",
       "      <td>cabaña</td>\n",
       "      <td>Excelentes y confortables cabañas para arrien...</td>\n",
       "      <td>Departamento</td>\n",
       "      <td>320000</td>\n",
       "      <td>5 Diciembre 15:08</td>\n",
       "      <td>2.0</td>\n",
       "      <td>1.0</td>\n",
       "      <td>Valdivia</td>\n",
       "    </tr>\n",
       "    <tr>\n",
       "      <th>3</th>\n",
       "      <td>https://www.yapo.cl/los_rios/arrendar/cabana_6...</td>\n",
       "      <td>cabaña</td>\n",
       "      <td>Arriendo 2 cabañas, cada una cuenta con 2 dor...</td>\n",
       "      <td>Casa</td>\n",
       "      <td>200000</td>\n",
       "      <td>5 Diciembre 14:26</td>\n",
       "      <td>2.0</td>\n",
       "      <td>1.0</td>\n",
       "      <td>Valdivia</td>\n",
       "    </tr>\n",
       "    <tr>\n",
       "      <th>4</th>\n",
       "      <td>https://www.yapo.cl/los_rios/arrendar/arriendo...</td>\n",
       "      <td>Arriendo Departamento Estudio</td>\n",
       "      <td>Arriendo Departamento Estudio, $ 150.000 mens...</td>\n",
       "      <td>Departamento</td>\n",
       "      <td>150000</td>\n",
       "      <td>5 Diciembre 13:45</td>\n",
       "      <td>1.0</td>\n",
       "      <td>1.0</td>\n",
       "      <td>Valdivia</td>\n",
       "    </tr>\n",
       "  </tbody>\n",
       "</table>\n",
       "</div>"
      ],
      "text/plain": [
       "                                                Link  \\\n",
       "0  https://www.yapo.cl/los_rios/arrendar/cabana_a...   \n",
       "1  https://www.yapo.cl/los_rios/arrendar/casa_par...   \n",
       "2  https://www.yapo.cl/los_rios/arrendar/cabana_6...   \n",
       "3  https://www.yapo.cl/los_rios/arrendar/cabana_6...   \n",
       "4  https://www.yapo.cl/los_rios/arrendar/arriendo...   \n",
       "\n",
       "                          Titulo  \\\n",
       "0                Cabaña amoblada   \n",
       "1             casa para arrendar   \n",
       "2                         cabaña   \n",
       "3                         cabaña   \n",
       "4  Arriendo Departamento Estudio   \n",
       "\n",
       "                                         Descripcion          Tipo   Valor  \\\n",
       "0   Cabaña amoblada, en sector residencial Parque...  Departamento  180000   \n",
       "1   Tengo subsidio de arriendo el subsidio es de ...          Casa  230000   \n",
       "2   Excelentes y confortables cabañas para arrien...  Departamento  320000   \n",
       "3   Arriendo 2 cabañas, cada una cuenta con 2 dor...          Casa  200000   \n",
       "4   Arriendo Departamento Estudio, $ 150.000 mens...  Departamento  150000   \n",
       "\n",
       "               Fecha  Dormitorios  Baños    Comuna  \n",
       "0  5 Diciembre 15:32          1.0    1.0  Valdivia  \n",
       "1  5 Diciembre 15:09          3.0    1.0  Valdivia  \n",
       "2  5 Diciembre 15:08          2.0    1.0  Valdivia  \n",
       "3  5 Diciembre 14:26          2.0    1.0  Valdivia  \n",
       "4  5 Diciembre 13:45          1.0    1.0  Valdivia  "
      ]
     },
     "execution_count": 25,
     "metadata": {},
     "output_type": "execute_result"
    }
   ],
   "source": [
    "#Para utilizar una sintaxis SQL para consultar un dataframe (para l@s que les gusta SQL :-) )\n",
    "from pandasql import sqldf\n",
    "\n",
    "#Ejemplo:\n",
    "myQuery=\"\"\"SELECT * FROM df_yapo LIMIT 5;\"\"\"\n",
    "result=sqldf(myQuery)\n",
    "result"
   ]
  },
  {
   "cell_type": "markdown",
   "metadata": {},
   "source": [
    "# 2. Oh, show me the way to the next whisky bar (oh, don't ask why)"
   ]
  },
  {
   "cell_type": "code",
   "execution_count": 49,
   "metadata": {},
   "outputs": [
    {
     "data": {
      "text/html": [
       "<div>\n",
       "<style scoped>\n",
       "    .dataframe tbody tr th:only-of-type {\n",
       "        vertical-align: middle;\n",
       "    }\n",
       "\n",
       "    .dataframe tbody tr th {\n",
       "        vertical-align: top;\n",
       "    }\n",
       "\n",
       "    .dataframe thead th {\n",
       "        text-align: right;\n",
       "    }\n",
       "</style>\n",
       "<table border=\"1\" class=\"dataframe\">\n",
       "  <thead>\n",
       "    <tr style=\"text-align: right;\">\n",
       "      <th></th>\n",
       "      <th>Tipo</th>\n",
       "      <th>Precio_Promedio</th>\n",
       "    </tr>\n",
       "  </thead>\n",
       "  <tbody>\n",
       "    <tr>\n",
       "      <th>0</th>\n",
       "      <td>Pieza</td>\n",
       "      <td>130943.0</td>\n",
       "    </tr>\n",
       "    <tr>\n",
       "      <th>1</th>\n",
       "      <td>Oficina</td>\n",
       "      <td>255366.0</td>\n",
       "    </tr>\n",
       "    <tr>\n",
       "      <th>2</th>\n",
       "      <td>Casa</td>\n",
       "      <td>256576.0</td>\n",
       "    </tr>\n",
       "    <tr>\n",
       "      <th>3</th>\n",
       "      <td>Departamento</td>\n",
       "      <td>276860.0</td>\n",
       "    </tr>\n",
       "    <tr>\n",
       "      <th>4</th>\n",
       "      <td>Estacionamiento, bodega u otro</td>\n",
       "      <td>305433.0</td>\n",
       "    </tr>\n",
       "    <tr>\n",
       "      <th>5</th>\n",
       "      <td>Comercial e industrial</td>\n",
       "      <td>464335.0</td>\n",
       "    </tr>\n",
       "  </tbody>\n",
       "</table>\n",
       "</div>"
      ],
      "text/plain": [
       "                             Tipo  Precio_Promedio\n",
       "0                           Pieza         130943.0\n",
       "1                         Oficina         255366.0\n",
       "2                            Casa         256576.0\n",
       "3                    Departamento         276860.0\n",
       "4  Estacionamiento, bodega u otro         305433.0\n",
       "5          Comercial e industrial         464335.0"
      ]
     },
     "execution_count": 49,
     "metadata": {},
     "output_type": "execute_result"
    }
   ],
   "source": [
    "#¿Cuál es el valor promedio del arriendo según el tipo de bien inmobiliario?\n",
    "\n",
    "myQuery=\"\"\"SELECT Tipo, round(avg(Valor),0) as Precio_Promedio \n",
    "FROM df_yapo \n",
    "WHERE Tipo NOT LIKE 'Terreno' \n",
    "GROUP BY Tipo ORDER BY Precio_Promedio;\"\"\"\n",
    "\n",
    "result=sqldf(myQuery)\n",
    "result"
   ]
  },
  {
   "cell_type": "code",
   "execution_count": 55,
   "metadata": {},
   "outputs": [
    {
     "data": {
      "image/png": "[encoded data removed]",
      "text/plain": [
       "<Figure size 432x288 with 1 Axes>"
      ]
     },
     "metadata": {
      "needs_background": "light"
     },
     "output_type": "display_data"
    }
   ],
   "source": [
    "# libraries\n",
    "import numpy as np\n",
    "import matplotlib.pyplot as plt\n",
    " \n",
    "# Dataset\n",
    "height = result['Precio_Promedio']\n",
    "bars = result['Tipo']\n",
    "y_pos = np.arange(len(bars))\n",
    " \n",
    "# Create bars and choose color\n",
    "plt.bar(y_pos, height, color = (0.5,0.1,0.5,0.6))\n",
    " \n",
    "# Add title and axis names\n",
    "plt.title('Valor promedio del arriendo en Los Ríos según el tipo de bien inmobiliario')\n",
    "plt.xlabel('Tipo de bien')\n",
    "plt.ylabel('Precio mensual')\n",
    " \n",
    "# Limits for the Y axis\n",
    "plt.ylim(0,500000)\n",
    " \n",
    "# Create names\n",
    "plt.xticks(y_pos, bars, rotation=90)\n",
    " \n",
    "# Show graphic\n",
    "#plt.show()\n",
    "\n",
    "#Save graphic\n",
    "plt.savefig('plot.png')  "
   ]
  },
  {
   "cell_type": "code",
   "execution_count": 72,
   "metadata": {},
   "outputs": [],
   "source": [
    "import base64\n",
    "\n",
    "encoded = base64.b64encode(open(\"plot.png\", \"rb\").read())\n",
    "img_base64 = 'data:image/png;base64,' + str(encoded)[2: -1]"
   ]
  },
  {
   "cell_type": "code",
   "execution_count": 71,
   "metadata": {},
   "outputs": [
    {
     "name": "stdout",
     "output_type": "stream",
     "text": [
      "<Response [200]>\n"
     ]
    }
   ],
   "source": [
    "import requests\n",
    "url = 'http://activismo.inf.uach.cl:8080/api/chart/'\n",
    "myData = {\n",
    "    \"title\": \"Yapo 1\",\n",
    "    \"image\": img_base64,\n",
    "    \"tags\":[\"Precio promedio arriendo\"]\n",
    "}\n",
    "x = requests.post(url, data = myData)\n",
    "print(x)"
   ]
  }
 ],
 "metadata": {
  "kernelspec": {
   "display_name": "NLP",
   "language": "python",
   "name": "nlp"
  },
  "language_info": {
   "codemirror_mode": {
    "name": "ipython",
    "version": 3
   },
   "file_extension": ".py",
   "mimetype": "text/x-python",
   "name": "python",
   "nbconvert_exporter": "python",
   "pygments_lexer": "ipython3",
   "version": "3.7.2"
  }
 },
 "nbformat": 4,
 "nbformat_minor": 2
}
